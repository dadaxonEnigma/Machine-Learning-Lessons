{
 "cells": [
  {
   "cell_type": "code",
   "execution_count": 2,
   "id": "b059f9a7-f40c-4134-9475-85ae443cefd4",
   "metadata": {
    "scrolled": true
   },
   "outputs": [],
   "source": [
    "import pandas as pd\n",
    "import matplotlib.pyplot as plt"
   ]
  },
  {
   "cell_type": "code",
   "execution_count": 72,
   "id": "73eb8a89-6572-42dc-acdc-7f427988755c",
   "metadata": {},
   "outputs": [
    {
     "data": {
      "text/html": [
       "<div>\n",
       "<style scoped>\n",
       "    .dataframe tbody tr th:only-of-type {\n",
       "        vertical-align: middle;\n",
       "    }\n",
       "\n",
       "    .dataframe tbody tr th {\n",
       "        vertical-align: top;\n",
       "    }\n",
       "\n",
       "    .dataframe thead th {\n",
       "        text-align: right;\n",
       "    }\n",
       "</style>\n",
       "<table border=\"1\" class=\"dataframe\">\n",
       "  <thead>\n",
       "    <tr style=\"text-align: right;\">\n",
       "      <th></th>\n",
       "      <th>Hours</th>\n",
       "      <th>Scores</th>\n",
       "    </tr>\n",
       "  </thead>\n",
       "  <tbody>\n",
       "    <tr>\n",
       "      <th>0</th>\n",
       "      <td>2.5</td>\n",
       "      <td>21</td>\n",
       "    </tr>\n",
       "    <tr>\n",
       "      <th>1</th>\n",
       "      <td>5.1</td>\n",
       "      <td>47</td>\n",
       "    </tr>\n",
       "  </tbody>\n",
       "</table>\n",
       "</div>"
      ],
      "text/plain": [
       "   Hours  Scores\n",
       "0    2.5      21\n",
       "1    5.1      47"
      ]
     },
     "execution_count": 72,
     "metadata": {},
     "output_type": "execute_result"
    }
   ],
   "source": [
    "df = pd.read_csv('student_scores.csv')\n",
    "df.head(2)"
   ]
  },
  {
   "cell_type": "code",
   "execution_count": 74,
   "id": "63e8fe63-dce8-4d9f-a9fc-a3e241c532c6",
   "metadata": {},
   "outputs": [],
   "source": [
    "df.rename(columns={'Hours': 'studytime','Scores': 'score'},inplace=True)"
   ]
  },
  {
   "cell_type": "code",
   "execution_count": 84,
   "id": "3d938c2c-668a-4c99-92c1-5ccfa0736f46",
   "metadata": {},
   "outputs": [
    {
     "data": {
      "text/plain": [
       "Text(0, 0.5, 'Score')"
      ]
     },
     "execution_count": 84,
     "metadata": {},
     "output_type": "execute_result"
    },
    {
     "data": {
      "image/png": "[encoded data removed]",
      "text/plain": [
       "<Figure size 640x480 with 1 Axes>"
      ]
     },
     "metadata": {},
     "output_type": "display_data"
    }
   ],
   "source": [
    "plt.scatter(df.studytime,df.score)\n",
    "plt.xlabel('Study Time')\n",
    "plt.ylabel('Score')"
   ]
  },
  {
   "cell_type": "code",
   "execution_count": 108,
   "id": "f9c3ee96-3933-4879-b911-7be7e09f9034",
   "metadata": {},
   "outputs": [],
   "source": [
    "def gradient_descent(m_now,b_now,points,L):\n",
    "    m_gradient = 0\n",
    "    b_gradient = 0\n",
    "\n",
    "    n = len(points)\n",
    "    for i in range(n):\n",
    "        x = points.iloc[i].studytime\n",
    "        y = points.iloc[i].score\n",
    "\n",
    "        m_gradient += -(2/n) * x * (y - (m_now*x + b_now))\n",
    "        b_gradient += -(2/n) * (y - (m_now*x + b_now)) \n",
    "    m = m_now - m_gradient * L\n",
    "    b = b_now - b_gradient * L\n",
    "    return m,b"
   ]
  },
  {
   "cell_type": "code",
   "execution_count": 125,
   "id": "f05714fe-994a-4f0d-97dd-de8b80019b26",
   "metadata": {},
   "outputs": [
    {
     "name": "stdout",
     "output_type": "stream",
     "text": [
      "9.896964110671043 1.6314708810783125\n"
     ]
    }
   ],
   "source": [
    "m = 0\n",
    "b = 0\n",
    "L = 0.0001\n",
    "epochs = 1000\n",
    "\n",
    "for i in range(epochs):\n",
    "    m,b = gradient_descent(m,b,df,L)\n",
    "print(m,b)"
   ]
  }
 ],
 "metadata": {
  "kernelspec": {
   "display_name": "Python 3 (ipykernel)",
   "language": "python",
   "name": "python3"
  },
  "language_info": {
   "codemirror_mode": {
    "name": "ipython",
    "version": 3
   },
   "file_extension": ".py",
   "mimetype": "text/x-python",
   "name": "python",
   "nbconvert_exporter": "python",
   "pygments_lexer": "ipython3",
   "version": "3.12.4"
  }
 },
 "nbformat": 4,
 "nbformat_minor": 5
}
