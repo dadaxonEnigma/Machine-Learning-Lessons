{
 "cells": [
  {
   "cell_type": "code",
   "execution_count": 11,
   "id": "d84cf61b-921a-4b03-912a-c6276a0c02d2",
   "metadata": {},
   "outputs": [
    {
     "name": "stdout",
     "output_type": "stream",
     "text": [
      "Requirement already satisfied: boston in e:\\anaconda\\lib\\site-packages (1.0.17)\n",
      "Requirement already satisfied: pandas in e:\\anaconda\\lib\\site-packages (from boston) (2.2.2)\n",
      "Requirement already satisfied: numpy>=1.26.0 in e:\\anaconda\\lib\\site-packages (from pandas->boston) (1.26.4)\n",
      "Requirement already satisfied: python-dateutil>=2.8.2 in c:\\users\\user\\appdata\\roaming\\python\\python312\\site-packages (from pandas->boston) (2.9.0.post0)\n",
      "Requirement already satisfied: pytz>=2020.1 in e:\\anaconda\\lib\\site-packages (from pandas->boston) (2024.1)\n",
      "Requirement already satisfied: tzdata>=2022.7 in e:\\anaconda\\lib\\site-packages (from pandas->boston) (2023.3)\n",
      "Requirement already satisfied: six>=1.5 in c:\\users\\user\\appdata\\roaming\\python\\python312\\site-packages (from python-dateutil>=2.8.2->pandas->boston) (1.16.0)\n"
     ]
    }
   ],
   "source": [
    "!pip install boston\n",
    "import pandas as pd\n",
    "from boston import load_boston\n",
    "import numpy as np"
   ]
  },
  {
   "cell_type": "markdown",
   "id": "3e54135b-7cbb-4f77-ba73-f6253c6f920f",
   "metadata": {},
   "source": [
    "## Read Data"
   ]
  },
  {
   "cell_type": "code",
   "execution_count": 19,
   "id": "cbb59f81-f89a-4f1c-ba1c-9afe874a2c57",
   "metadata": {},
   "outputs": [
    {
     "data": {
      "text/plain": [
       "dict_keys(['data', 'target', 'feature_names', 'DESCR', 'filename', 'data_module'])"
      ]
     },
     "execution_count": 19,
     "metadata": {},
     "output_type": "execute_result"
    }
   ],
   "source": [
    "data = load_boston()\n",
    "data.keys()"
   ]
  },
  {
   "cell_type": "code",
   "execution_count": 44,
   "id": "9b453f9a-ba6c-4103-9b82-e25b1011d7b6",
   "metadata": {},
   "outputs": [],
   "source": [
    "X = data.data\n",
    "features = data.feature_names\n",
    "y = data.target"
   ]
  },
  {
   "cell_type": "code",
   "execution_count": 29,
   "id": "16827c3b-e6f0-4bef-9796-cba6d29a597c",
   "metadata": {},
   "outputs": [
    {
     "data": {
      "text/html": [
       "<div>\n",
       "<style scoped>\n",
       "    .dataframe tbody tr th:only-of-type {\n",
       "        vertical-align: middle;\n",
       "    }\n",
       "\n",
       "    .dataframe tbody tr th {\n",
       "        vertical-align: top;\n",
       "    }\n",
       "\n",
       "    .dataframe thead th {\n",
       "        text-align: right;\n",
       "    }\n",
       "</style>\n",
       "<table border=\"1\" class=\"dataframe\">\n",
       "  <thead>\n",
       "    <tr style=\"text-align: right;\">\n",
       "      <th></th>\n",
       "      <th>CRIM</th>\n",
       "      <th>ZN</th>\n",
       "      <th>INDUS</th>\n",
       "      <th>CHAS</th>\n",
       "      <th>NOX</th>\n",
       "      <th>RM</th>\n",
       "      <th>AGE</th>\n",
       "      <th>DIS</th>\n",
       "      <th>RAD</th>\n",
       "      <th>TAX</th>\n",
       "      <th>PTRATIO</th>\n",
       "      <th>B</th>\n",
       "      <th>LSTAT</th>\n",
       "      <th>target</th>\n",
       "    </tr>\n",
       "  </thead>\n",
       "  <tbody>\n",
       "    <tr>\n",
       "      <th>0</th>\n",
       "      <td>0.00632</td>\n",
       "      <td>18.0</td>\n",
       "      <td>2.31</td>\n",
       "      <td>0.0</td>\n",
       "      <td>0.538</td>\n",
       "      <td>6.575</td>\n",
       "      <td>65.2</td>\n",
       "      <td>4.0900</td>\n",
       "      <td>1.0</td>\n",
       "      <td>296.0</td>\n",
       "      <td>15.3</td>\n",
       "      <td>396.90</td>\n",
       "      <td>4.98</td>\n",
       "      <td>24.0</td>\n",
       "    </tr>\n",
       "    <tr>\n",
       "      <th>1</th>\n",
       "      <td>0.02731</td>\n",
       "      <td>0.0</td>\n",
       "      <td>7.07</td>\n",
       "      <td>0.0</td>\n",
       "      <td>0.469</td>\n",
       "      <td>6.421</td>\n",
       "      <td>78.9</td>\n",
       "      <td>4.9671</td>\n",
       "      <td>2.0</td>\n",
       "      <td>242.0</td>\n",
       "      <td>17.8</td>\n",
       "      <td>396.90</td>\n",
       "      <td>9.14</td>\n",
       "      <td>21.6</td>\n",
       "    </tr>\n",
       "    <tr>\n",
       "      <th>2</th>\n",
       "      <td>0.02729</td>\n",
       "      <td>0.0</td>\n",
       "      <td>7.07</td>\n",
       "      <td>0.0</td>\n",
       "      <td>0.469</td>\n",
       "      <td>7.185</td>\n",
       "      <td>61.1</td>\n",
       "      <td>4.9671</td>\n",
       "      <td>2.0</td>\n",
       "      <td>242.0</td>\n",
       "      <td>17.8</td>\n",
       "      <td>392.83</td>\n",
       "      <td>4.03</td>\n",
       "      <td>34.7</td>\n",
       "    </tr>\n",
       "    <tr>\n",
       "      <th>3</th>\n",
       "      <td>0.03237</td>\n",
       "      <td>0.0</td>\n",
       "      <td>2.18</td>\n",
       "      <td>0.0</td>\n",
       "      <td>0.458</td>\n",
       "      <td>6.998</td>\n",
       "      <td>45.8</td>\n",
       "      <td>6.0622</td>\n",
       "      <td>3.0</td>\n",
       "      <td>222.0</td>\n",
       "      <td>18.7</td>\n",
       "      <td>394.63</td>\n",
       "      <td>2.94</td>\n",
       "      <td>33.4</td>\n",
       "    </tr>\n",
       "    <tr>\n",
       "      <th>4</th>\n",
       "      <td>0.06905</td>\n",
       "      <td>0.0</td>\n",
       "      <td>2.18</td>\n",
       "      <td>0.0</td>\n",
       "      <td>0.458</td>\n",
       "      <td>7.147</td>\n",
       "      <td>54.2</td>\n",
       "      <td>6.0622</td>\n",
       "      <td>3.0</td>\n",
       "      <td>222.0</td>\n",
       "      <td>18.7</td>\n",
       "      <td>396.90</td>\n",
       "      <td>5.33</td>\n",
       "      <td>36.2</td>\n",
       "    </tr>\n",
       "    <tr>\n",
       "      <th>...</th>\n",
       "      <td>...</td>\n",
       "      <td>...</td>\n",
       "      <td>...</td>\n",
       "      <td>...</td>\n",
       "      <td>...</td>\n",
       "      <td>...</td>\n",
       "      <td>...</td>\n",
       "      <td>...</td>\n",
       "      <td>...</td>\n",
       "      <td>...</td>\n",
       "      <td>...</td>\n",
       "      <td>...</td>\n",
       "      <td>...</td>\n",
       "      <td>...</td>\n",
       "    </tr>\n",
       "    <tr>\n",
       "      <th>501</th>\n",
       "      <td>0.06263</td>\n",
       "      <td>0.0</td>\n",
       "      <td>11.93</td>\n",
       "      <td>0.0</td>\n",
       "      <td>0.573</td>\n",
       "      <td>6.593</td>\n",
       "      <td>69.1</td>\n",
       "      <td>2.4786</td>\n",
       "      <td>1.0</td>\n",
       "      <td>273.0</td>\n",
       "      <td>21.0</td>\n",
       "      <td>391.99</td>\n",
       "      <td>9.67</td>\n",
       "      <td>22.4</td>\n",
       "    </tr>\n",
       "    <tr>\n",
       "      <th>502</th>\n",
       "      <td>0.04527</td>\n",
       "      <td>0.0</td>\n",
       "      <td>11.93</td>\n",
       "      <td>0.0</td>\n",
       "      <td>0.573</td>\n",
       "      <td>6.120</td>\n",
       "      <td>76.7</td>\n",
       "      <td>2.2875</td>\n",
       "      <td>1.0</td>\n",
       "      <td>273.0</td>\n",
       "      <td>21.0</td>\n",
       "      <td>396.90</td>\n",
       "      <td>9.08</td>\n",
       "      <td>20.6</td>\n",
       "    </tr>\n",
       "    <tr>\n",
       "      <th>503</th>\n",
       "      <td>0.06076</td>\n",
       "      <td>0.0</td>\n",
       "      <td>11.93</td>\n",
       "      <td>0.0</td>\n",
       "      <td>0.573</td>\n",
       "      <td>6.976</td>\n",
       "      <td>91.0</td>\n",
       "      <td>2.1675</td>\n",
       "      <td>1.0</td>\n",
       "      <td>273.0</td>\n",
       "      <td>21.0</td>\n",
       "      <td>396.90</td>\n",
       "      <td>5.64</td>\n",
       "      <td>23.9</td>\n",
       "    </tr>\n",
       "    <tr>\n",
       "      <th>504</th>\n",
       "      <td>0.10959</td>\n",
       "      <td>0.0</td>\n",
       "      <td>11.93</td>\n",
       "      <td>0.0</td>\n",
       "      <td>0.573</td>\n",
       "      <td>6.794</td>\n",
       "      <td>89.3</td>\n",
       "      <td>2.3889</td>\n",
       "      <td>1.0</td>\n",
       "      <td>273.0</td>\n",
       "      <td>21.0</td>\n",
       "      <td>393.45</td>\n",
       "      <td>6.48</td>\n",
       "      <td>22.0</td>\n",
       "    </tr>\n",
       "    <tr>\n",
       "      <th>505</th>\n",
       "      <td>0.04741</td>\n",
       "      <td>0.0</td>\n",
       "      <td>11.93</td>\n",
       "      <td>0.0</td>\n",
       "      <td>0.573</td>\n",
       "      <td>6.030</td>\n",
       "      <td>80.8</td>\n",
       "      <td>2.5050</td>\n",
       "      <td>1.0</td>\n",
       "      <td>273.0</td>\n",
       "      <td>21.0</td>\n",
       "      <td>396.90</td>\n",
       "      <td>7.88</td>\n",
       "      <td>11.9</td>\n",
       "    </tr>\n",
       "  </tbody>\n",
       "</table>\n",
       "<p>506 rows × 14 columns</p>\n",
       "</div>"
      ],
      "text/plain": [
       "        CRIM    ZN  INDUS  CHAS    NOX     RM   AGE     DIS  RAD    TAX  \\\n",
       "0    0.00632  18.0   2.31   0.0  0.538  6.575  65.2  4.0900  1.0  296.0   \n",
       "1    0.02731   0.0   7.07   0.0  0.469  6.421  78.9  4.9671  2.0  242.0   \n",
       "2    0.02729   0.0   7.07   0.0  0.469  7.185  61.1  4.9671  2.0  242.0   \n",
       "3    0.03237   0.0   2.18   0.0  0.458  6.998  45.8  6.0622  3.0  222.0   \n",
       "4    0.06905   0.0   2.18   0.0  0.458  7.147  54.2  6.0622  3.0  222.0   \n",
       "..       ...   ...    ...   ...    ...    ...   ...     ...  ...    ...   \n",
       "501  0.06263   0.0  11.93   0.0  0.573  6.593  69.1  2.4786  1.0  273.0   \n",
       "502  0.04527   0.0  11.93   0.0  0.573  6.120  76.7  2.2875  1.0  273.0   \n",
       "503  0.06076   0.0  11.93   0.0  0.573  6.976  91.0  2.1675  1.0  273.0   \n",
       "504  0.10959   0.0  11.93   0.0  0.573  6.794  89.3  2.3889  1.0  273.0   \n",
       "505  0.04741   0.0  11.93   0.0  0.573  6.030  80.8  2.5050  1.0  273.0   \n",
       "\n",
       "     PTRATIO       B  LSTAT  target  \n",
       "0       15.3  396.90   4.98    24.0  \n",
       "1       17.8  396.90   9.14    21.6  \n",
       "2       17.8  392.83   4.03    34.7  \n",
       "3       18.7  394.63   2.94    33.4  \n",
       "4       18.7  396.90   5.33    36.2  \n",
       "..       ...     ...    ...     ...  \n",
       "501     21.0  391.99   9.67    22.4  \n",
       "502     21.0  396.90   9.08    20.6  \n",
       "503     21.0  396.90   5.64    23.9  \n",
       "504     21.0  393.45   6.48    22.0  \n",
       "505     21.0  396.90   7.88    11.9  \n",
       "\n",
       "[506 rows x 14 columns]"
      ]
     },
     "execution_count": 29,
     "metadata": {},
     "output_type": "execute_result"
    }
   ],
   "source": [
    "df = pd.DataFrame(X,columns = features)\n",
    "df['target'] = y\n",
    "df"
   ]
  },
  {
   "cell_type": "markdown",
   "id": "63638516-edd8-49be-b00b-5f15cf1cc7ac",
   "metadata": {},
   "source": [
    "## Обучение модели"
   ]
  },
  {
   "cell_type": "code",
   "execution_count": 52,
   "id": "4fc9de30-5744-4bb8-b7cd-89ea997e38d5",
   "metadata": {},
   "outputs": [],
   "source": [
    "from sklearn.linear_model import LinearRegression\n",
    "\n",
    "lr = LinearRegression()\n",
    "lr.fit(X, y)\n",
    "prediction = lr.predict(X)"
   ]
  },
  {
   "cell_type": "markdown",
   "id": "2b12e5da-153f-4500-8085-619600b83bfe",
   "metadata": {},
   "source": [
    "## Метрики"
   ]
  },
  {
   "cell_type": "code",
   "execution_count": 77,
   "id": "3d3932a5-8351-42f1-8572-c2bb3a1b3af9",
   "metadata": {},
   "outputs": [
    {
     "data": {
      "text/html": [
       "<div>\n",
       "<style scoped>\n",
       "    .dataframe tbody tr th:only-of-type {\n",
       "        vertical-align: middle;\n",
       "    }\n",
       "\n",
       "    .dataframe tbody tr th {\n",
       "        vertical-align: top;\n",
       "    }\n",
       "\n",
       "    .dataframe thead th {\n",
       "        text-align: right;\n",
       "    }\n",
       "</style>\n",
       "<table border=\"1\" class=\"dataframe\">\n",
       "  <thead>\n",
       "    <tr style=\"text-align: right;\">\n",
       "      <th></th>\n",
       "      <th>truth</th>\n",
       "      <th>prediction</th>\n",
       "      <th>difference</th>\n",
       "    </tr>\n",
       "  </thead>\n",
       "  <tbody>\n",
       "    <tr>\n",
       "      <th>0</th>\n",
       "      <td>24.0</td>\n",
       "      <td>30.003843</td>\n",
       "      <td>6.003843</td>\n",
       "    </tr>\n",
       "    <tr>\n",
       "      <th>1</th>\n",
       "      <td>21.6</td>\n",
       "      <td>25.025562</td>\n",
       "      <td>3.425562</td>\n",
       "    </tr>\n",
       "    <tr>\n",
       "      <th>2</th>\n",
       "      <td>34.7</td>\n",
       "      <td>30.567597</td>\n",
       "      <td>-4.132403</td>\n",
       "    </tr>\n",
       "    <tr>\n",
       "      <th>3</th>\n",
       "      <td>33.4</td>\n",
       "      <td>28.607036</td>\n",
       "      <td>-4.792964</td>\n",
       "    </tr>\n",
       "    <tr>\n",
       "      <th>4</th>\n",
       "      <td>36.2</td>\n",
       "      <td>27.943524</td>\n",
       "      <td>-8.256476</td>\n",
       "    </tr>\n",
       "  </tbody>\n",
       "</table>\n",
       "</div>"
      ],
      "text/plain": [
       "   truth  prediction  difference\n",
       "0   24.0   30.003843    6.003843\n",
       "1   21.6   25.025562    3.425562\n",
       "2   34.7   30.567597   -4.132403\n",
       "3   33.4   28.607036   -4.792964\n",
       "4   36.2   27.943524   -8.256476"
      ]
     },
     "execution_count": 77,
     "metadata": {},
     "output_type": "execute_result"
    }
   ],
   "source": [
    "pred_df = pd.DataFrame({\n",
    "    'truth': y,\n",
    "    'prediction': prediction\n",
    "})\n",
    "pred_df['difference'] = pred_df['prediction'] - pred_df['truth']\n",
    "pred_df.head()"
   ]
  },
  {
   "cell_type": "code",
   "execution_count": 82,
   "id": "69ec11ab-3926-4534-ab01-64a3f8bd690e",
   "metadata": {},
   "outputs": [
    {
     "data": {
      "text/plain": [
       "9.113482915183893e-15"
      ]
     },
     "execution_count": 82,
     "metadata": {},
     "output_type": "execute_result"
    }
   ],
   "source": [
    "pred_df['difference'].sum() / pred_df.shape[0]"
   ]
  },
  {
   "cell_type": "markdown",
   "id": "908de7a4-3546-4885-b7be-0a369c555981",
   "metadata": {},
   "source": [
    "## MAE - Mean Absolute Error\n",
    "## $$MAE = \\frac{1}{n}\\sum_i^n{|y - y_{pred}|}$$"
   ]
  },
  {
   "cell_type": "code",
   "execution_count": 167,
   "id": "7ccd7156-27ee-4adc-ab67-d2de979f60a2",
   "metadata": {},
   "outputs": [
    {
     "data": {
      "text/plain": [
       "3.270862810900318"
      ]
     },
     "execution_count": 167,
     "metadata": {},
     "output_type": "execute_result"
    }
   ],
   "source": [
    "pred_df['absolute'] = abs(pred_df['prediction'] - pred_df['truth'])\n",
    "pred_df['absolute'].sum() / pred_df.shape[0]"
   ]
  },
  {
   "cell_type": "code",
   "execution_count": 106,
   "id": "bf67914c-ded8-46fc-ad47-89da3aadcf1d",
   "metadata": {},
   "outputs": [
    {
     "data": {
      "text/plain": [
       "3.270862810900318"
      ]
     },
     "execution_count": 106,
     "metadata": {},
     "output_type": "execute_result"
    }
   ],
   "source": [
    "from sklearn.metrics import mean_absolute_error\n",
    "\n",
    "mean_absolute_error(pred_df['truth'], pred_df['prediction'])"
   ]
  },
  {
   "cell_type": "markdown",
   "id": "9288463b-beec-4ccc-ad68-814b0e32ae26",
   "metadata": {},
   "source": [
    "## MSE - Mean Square Error\n",
    "## $$MSE = \\frac{1}{n}\\sum_i^n{(y - y_{pred})^2}$$"
   ]
  },
  {
   "cell_type": "code",
   "execution_count": 129,
   "id": "45bea27c-abaa-4f72-bf3a-1e2e4b02883f",
   "metadata": {},
   "outputs": [
    {
     "data": {
      "text/plain": [
       "21.8948311817292"
      ]
     },
     "execution_count": 129,
     "metadata": {},
     "output_type": "execute_result"
    }
   ],
   "source": [
    "pred_df['squared'] = (pred_df['prediction'] - pred_df['truth']) ** 2\n",
    "pred_df['squared'].mean()"
   ]
  },
  {
   "cell_type": "code",
   "execution_count": 133,
   "id": "d0f7a1d1-0e64-466c-8f01-3a8961834f45",
   "metadata": {},
   "outputs": [
    {
     "data": {
      "text/plain": [
       "21.8948311817292"
      ]
     },
     "execution_count": 133,
     "metadata": {},
     "output_type": "execute_result"
    }
   ],
   "source": [
    "from sklearn.metrics import mean_squared_error\n",
    "mean_squared_error(pred_df['truth'], pred_df['prediction'])"
   ]
  },
  {
   "cell_type": "markdown",
   "id": "0ebe5120-d8bb-4f6d-84ef-28f1ce1faa59",
   "metadata": {},
   "source": [
    "## RMSE - Root Mean Square Error\n",
    "## $$RMSE = \\sqrt{\\frac{1}{n}\\sum_i^n{(y - y_{pred})^2}}$$"
   ]
  },
  {
   "cell_type": "code",
   "execution_count": 135,
   "id": "68debd80-9de2-4cbf-a7a5-ee1e0dbdb667",
   "metadata": {},
   "outputs": [
    {
     "data": {
      "text/html": [
       "<div>\n",
       "<style scoped>\n",
       "    .dataframe tbody tr th:only-of-type {\n",
       "        vertical-align: middle;\n",
       "    }\n",
       "\n",
       "    .dataframe tbody tr th {\n",
       "        vertical-align: top;\n",
       "    }\n",
       "\n",
       "    .dataframe thead th {\n",
       "        text-align: right;\n",
       "    }\n",
       "</style>\n",
       "<table border=\"1\" class=\"dataframe\">\n",
       "  <thead>\n",
       "    <tr style=\"text-align: right;\">\n",
       "      <th></th>\n",
       "      <th>truth</th>\n",
       "      <th>prediction</th>\n",
       "      <th>difference</th>\n",
       "      <th>absolute</th>\n",
       "      <th>squared</th>\n",
       "    </tr>\n",
       "  </thead>\n",
       "  <tbody>\n",
       "    <tr>\n",
       "      <th>0</th>\n",
       "      <td>24.0</td>\n",
       "      <td>30.003843</td>\n",
       "      <td>6.003843</td>\n",
       "      <td>6.003843</td>\n",
       "      <td>36.046135</td>\n",
       "    </tr>\n",
       "    <tr>\n",
       "      <th>1</th>\n",
       "      <td>21.6</td>\n",
       "      <td>25.025562</td>\n",
       "      <td>3.425562</td>\n",
       "      <td>3.425562</td>\n",
       "      <td>11.734478</td>\n",
       "    </tr>\n",
       "  </tbody>\n",
       "</table>\n",
       "</div>"
      ],
      "text/plain": [
       "   truth  prediction  difference  absolute    squared\n",
       "0   24.0   30.003843    6.003843  6.003843  36.046135\n",
       "1   21.6   25.025562    3.425562  3.425562  11.734478"
      ]
     },
     "execution_count": 135,
     "metadata": {},
     "output_type": "execute_result"
    }
   ],
   "source": [
    "pred_df.head(2)"
   ]
  },
  {
   "cell_type": "code",
   "execution_count": 137,
   "id": "659506ac-39b0-4af7-9c09-408d4468ae52",
   "metadata": {},
   "outputs": [
    {
     "data": {
      "text/plain": [
       "4.679191295697281"
      ]
     },
     "execution_count": 137,
     "metadata": {},
     "output_type": "execute_result"
    }
   ],
   "source": [
    "np.sqrt(pred_df['squared'].mean())"
   ]
  },
  {
   "cell_type": "markdown",
   "id": "3162c2ce-9751-46af-acbe-aa1d6bfe63ec",
   "metadata": {},
   "source": [
    "## $R^2$\n",
    "## $$R^2 = 1 - \\frac{\\frac{1}{n}\\sum^{n}_{i}{(y - y_{pred})^2}}{\\frac{1}{n}\\sum^{n}_{i}{(y - \\bar{y})^2}}$$"
   ]
  },
  {
   "cell_type": "code",
   "execution_count": 143,
   "id": "212fc619-d1f2-4da4-8d9f-e71f66f3d1f8",
   "metadata": {},
   "outputs": [
    {
     "data": {
      "text/html": [
       "<div>\n",
       "<style scoped>\n",
       "    .dataframe tbody tr th:only-of-type {\n",
       "        vertical-align: middle;\n",
       "    }\n",
       "\n",
       "    .dataframe tbody tr th {\n",
       "        vertical-align: top;\n",
       "    }\n",
       "\n",
       "    .dataframe thead th {\n",
       "        text-align: right;\n",
       "    }\n",
       "</style>\n",
       "<table border=\"1\" class=\"dataframe\">\n",
       "  <thead>\n",
       "    <tr style=\"text-align: right;\">\n",
       "      <th></th>\n",
       "      <th>truth</th>\n",
       "      <th>prediction</th>\n",
       "      <th>difference</th>\n",
       "      <th>absolute</th>\n",
       "      <th>squared</th>\n",
       "      <th>constant</th>\n",
       "    </tr>\n",
       "  </thead>\n",
       "  <tbody>\n",
       "    <tr>\n",
       "      <th>0</th>\n",
       "      <td>24.0</td>\n",
       "      <td>30.003843</td>\n",
       "      <td>6.003843</td>\n",
       "      <td>6.003843</td>\n",
       "      <td>36.046135</td>\n",
       "      <td>22.532806</td>\n",
       "    </tr>\n",
       "    <tr>\n",
       "      <th>1</th>\n",
       "      <td>21.6</td>\n",
       "      <td>25.025562</td>\n",
       "      <td>3.425562</td>\n",
       "      <td>3.425562</td>\n",
       "      <td>11.734478</td>\n",
       "      <td>22.532806</td>\n",
       "    </tr>\n",
       "    <tr>\n",
       "      <th>2</th>\n",
       "      <td>34.7</td>\n",
       "      <td>30.567597</td>\n",
       "      <td>-4.132403</td>\n",
       "      <td>4.132403</td>\n",
       "      <td>17.076757</td>\n",
       "      <td>22.532806</td>\n",
       "    </tr>\n",
       "    <tr>\n",
       "      <th>3</th>\n",
       "      <td>33.4</td>\n",
       "      <td>28.607036</td>\n",
       "      <td>-4.792964</td>\n",
       "      <td>4.792964</td>\n",
       "      <td>22.972499</td>\n",
       "      <td>22.532806</td>\n",
       "    </tr>\n",
       "    <tr>\n",
       "      <th>4</th>\n",
       "      <td>36.2</td>\n",
       "      <td>27.943524</td>\n",
       "      <td>-8.256476</td>\n",
       "      <td>8.256476</td>\n",
       "      <td>68.169392</td>\n",
       "      <td>22.532806</td>\n",
       "    </tr>\n",
       "    <tr>\n",
       "      <th>...</th>\n",
       "      <td>...</td>\n",
       "      <td>...</td>\n",
       "      <td>...</td>\n",
       "      <td>...</td>\n",
       "      <td>...</td>\n",
       "      <td>...</td>\n",
       "    </tr>\n",
       "    <tr>\n",
       "      <th>501</th>\n",
       "      <td>22.4</td>\n",
       "      <td>23.533341</td>\n",
       "      <td>1.133341</td>\n",
       "      <td>1.133341</td>\n",
       "      <td>1.284461</td>\n",
       "      <td>22.532806</td>\n",
       "    </tr>\n",
       "    <tr>\n",
       "      <th>502</th>\n",
       "      <td>20.6</td>\n",
       "      <td>22.375719</td>\n",
       "      <td>1.775719</td>\n",
       "      <td>1.775719</td>\n",
       "      <td>3.153178</td>\n",
       "      <td>22.532806</td>\n",
       "    </tr>\n",
       "    <tr>\n",
       "      <th>503</th>\n",
       "      <td>23.9</td>\n",
       "      <td>27.627426</td>\n",
       "      <td>3.727426</td>\n",
       "      <td>3.727426</td>\n",
       "      <td>13.893705</td>\n",
       "      <td>22.532806</td>\n",
       "    </tr>\n",
       "    <tr>\n",
       "      <th>504</th>\n",
       "      <td>22.0</td>\n",
       "      <td>26.127967</td>\n",
       "      <td>4.127967</td>\n",
       "      <td>4.127967</td>\n",
       "      <td>17.040110</td>\n",
       "      <td>22.532806</td>\n",
       "    </tr>\n",
       "    <tr>\n",
       "      <th>505</th>\n",
       "      <td>11.9</td>\n",
       "      <td>22.344212</td>\n",
       "      <td>10.444212</td>\n",
       "      <td>10.444212</td>\n",
       "      <td>109.081570</td>\n",
       "      <td>22.532806</td>\n",
       "    </tr>\n",
       "  </tbody>\n",
       "</table>\n",
       "<p>506 rows × 6 columns</p>\n",
       "</div>"
      ],
      "text/plain": [
       "     truth  prediction  difference   absolute     squared   constant\n",
       "0     24.0   30.003843    6.003843   6.003843   36.046135  22.532806\n",
       "1     21.6   25.025562    3.425562   3.425562   11.734478  22.532806\n",
       "2     34.7   30.567597   -4.132403   4.132403   17.076757  22.532806\n",
       "3     33.4   28.607036   -4.792964   4.792964   22.972499  22.532806\n",
       "4     36.2   27.943524   -8.256476   8.256476   68.169392  22.532806\n",
       "..     ...         ...         ...        ...         ...        ...\n",
       "501   22.4   23.533341    1.133341   1.133341    1.284461  22.532806\n",
       "502   20.6   22.375719    1.775719   1.775719    3.153178  22.532806\n",
       "503   23.9   27.627426    3.727426   3.727426   13.893705  22.532806\n",
       "504   22.0   26.127967    4.127967   4.127967   17.040110  22.532806\n",
       "505   11.9   22.344212   10.444212  10.444212  109.081570  22.532806\n",
       "\n",
       "[506 rows x 6 columns]"
      ]
     },
     "execution_count": 143,
     "metadata": {},
     "output_type": "execute_result"
    }
   ],
   "source": [
    "pred_df['constant'] = pred_df['truth'].mean()\n",
    "pred_df"
   ]
  },
  {
   "cell_type": "code",
   "execution_count": 151,
   "id": "99ff31bc-9ebe-41dc-9268-5804ca17c595",
   "metadata": {},
   "outputs": [
    {
     "data": {
      "text/plain": [
       "84.41955615616556"
      ]
     },
     "execution_count": 151,
     "metadata": {},
     "output_type": "execute_result"
    }
   ],
   "source": [
    "mse_constant = mean_squared_error(pred_df['truth'] , pred_df['constant'])\n",
    "mse_constant"
   ]
  },
  {
   "cell_type": "code",
   "execution_count": 155,
   "id": "c907855b-a406-4cf3-a7c1-cbedc957e52e",
   "metadata": {},
   "outputs": [
    {
     "data": {
      "text/plain": [
       "21.8948311817292"
      ]
     },
     "execution_count": 155,
     "metadata": {},
     "output_type": "execute_result"
    }
   ],
   "source": [
    "mse_model = mean_squared_error(pred_df['truth'], pred_df['prediction'])\n",
    "mse_model"
   ]
  },
  {
   "cell_type": "code",
   "execution_count": 157,
   "id": "6f34188d-c810-4058-8384-a9373f3cc78e",
   "metadata": {},
   "outputs": [
    {
     "data": {
      "text/plain": [
       "0.7406426641094095"
      ]
     },
     "execution_count": 157,
     "metadata": {},
     "output_type": "execute_result"
    }
   ],
   "source": [
    "1 - mse_model / mse_constant"
   ]
  },
  {
   "cell_type": "code",
   "execution_count": 161,
   "id": "56e335da-74a7-4e0c-9e95-cedc5286f75b",
   "metadata": {},
   "outputs": [
    {
     "data": {
      "text/plain": [
       "0.7406426641094095"
      ]
     },
     "execution_count": 161,
     "metadata": {},
     "output_type": "execute_result"
    }
   ],
   "source": [
    "from sklearn.metrics import r2_score\n",
    "\n",
    "r2_score(pred_df['truth'], pred_df['prediction'])"
   ]
  },
  {
   "cell_type": "markdown",
   "id": "e65bfbb0-857c-4f8c-abbf-9034ed73d67d",
   "metadata": {},
   "source": [
    "## Summary\n",
    "<table>\n",
    "\r\n",
    "<tr>\r\n",
    "<td>\r\n",
    "Метрика\r\n",
    "</td>\r\n",
    "\r\n",
    "<td>\r\n",
    "Формула\r\n",
    "</td>\r\n",
    "\r\n",
    "<td>\r\n",
    "Диапазоны значений\r\n",
    "</td>\r\n",
    "\r\n",
    "<td>\r\n",
    "Идеальное значение\r\n",
    "</td>\r\n",
    "</tr>\r\n",
    "\r\n",
    "<tr>\r\n",
    "<td>\r\n",
    "MAE (mean absolute error, средне-абсолютнаошибка)\r\n",
    "</td>\r\n",
    "\r\n",
    "<td>\r\n",
    "$$MAE = \\frac{1}{n}\\sum_i^n{|y - y_{pred}|}$$\r\n",
    "\r\n",
    "</td>\r\n",
    "\r\n",
    "<td>\r\n",
    "[0, +$\\infty$)\r\n",
    "</td>\r\n",
    "\r\n",
    "<td>\r\n",
    "0\r\n",
    "</td>\r\n",
    "</tr>\r\n",
    "\r\n",
    "<tr>\r\n",
    "<td>\r\n",
    "MSE (mean squared error, средне-квадратичная ошибка)\r\n",
    "\r\n",
    "</td>\r\n",
    "\r\n",
    "<td>\r\n",
    "$$MSE = \\frac{1}{n}\\sum_i^n{(y - y_{pred})^2}$$\r\n",
    "\r\n",
    "</td>\r\n",
    "\r\n",
    "<td>\r\n",
    "[0, +$\\infty$)\r\n",
    "</td>\r\n",
    "\r\n",
    "<td>\r\n",
    "0\r\n",
    "</td>\r\n",
    "</tr>\r\n",
    "\r\n",
    "<tr>\r\n",
    "<td>\r\n",
    "RMSE (root mean squared error).\r\n",
    "\r\n",
    "</td>\r\n",
    "\r\n",
    "<td>\r\n",
    "$$RMSE = \\sqrt{\\frac{1}{n}\\sum_i^n{(y - y_{pred})^2}}$$\r\n",
    "\r\n",
    "</td>\r\n",
    "\r\n",
    "<td>\r\n",
    "[0, +$\\infty$)\r\n",
    "</td>\r\n",
    "\r\n",
    "<td>\r\n",
    "0\r\n",
    "</td>\r\n",
    "</tr>\r\n",
    "\r\n",
    "<tr>\r\n",
    "<td>\r\n",
    "Коэффициент детерминации $R^{2}$\r\n",
    "\r\n",
    "</td>\r\n",
    "\r\n",
    "<td>\r\n",
    "$$R^2 = 1 - \\frac{\\frac{1}{n}\\sum^{n}_{i}{(y - y_{pred})^2}}{\\frac{1}{n}\\sum^{n}_{i}{(y - \\bar{y})^2}}$$\r\n",
    "\r\n",
    "</td>\r\n",
    "\r\n",
    "<td>\r\n",
    "(-$\\infty$, 1]\r\n",
    "\r\n",
    "</td>\r\n",
    "\r\n",
    "<td>\r\n",
    "1\r\n",
    "</td>\r\n",
    "</tr>\r\n",
    "</table>"
   ]
  }
 ],
 "metadata": {
  "kernelspec": {
   "display_name": "Python 3 (ipykernel)",
   "language": "python",
   "name": "python3"
  },
  "language_info": {
   "codemirror_mode": {
    "name": "ipython",
    "version": 3
   },
   "file_extension": ".py",
   "mimetype": "text/x-python",
   "name": "python",
   "nbconvert_exporter": "python",
   "pygments_lexer": "ipython3",
   "version": "3.12.4"
  }
 },
 "nbformat": 4,
 "nbformat_minor": 5
}
