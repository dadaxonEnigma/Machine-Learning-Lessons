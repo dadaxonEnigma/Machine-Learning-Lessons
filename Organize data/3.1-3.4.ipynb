{
 "cells": [
  {
   "cell_type": "markdown",
   "id": "a7e5f526-bf50-4fd2-acd1-423a381b2dee",
   "metadata": {},
   "source": [
    "## 3.1. Создание фрейма данных\n",
    "## Задача\n",
    "Требуется создать новый фрейм данных."
   ]
  },
  {
   "cell_type": "code",
   "execution_count": 1,
   "id": "aeede5ed-58d9-4ab7-9503-bebea035b586",
   "metadata": {},
   "outputs": [],
   "source": [
    "import pandas as pd"
   ]
  },
  {
   "cell_type": "code",
   "execution_count": 2,
   "id": "4820bde6-fa2f-4c6a-abcd-f43ab63b9f51",
   "metadata": {},
   "outputs": [],
   "source": [
    "dataframe = pd.DataFrame()"
   ]
  },
  {
   "cell_type": "code",
   "execution_count": 21,
   "id": "ff8dcb53-d094-450e-8aae-d83313d88236",
   "metadata": {},
   "outputs": [],
   "source": [
    "dataframe['Name'] = ['Alex Alelee','Stiven Stivenson']\n",
    "dataframe['Age'] = [38,25]\n",
    "dataframe['Driver'] = [True,False]"
   ]
  },
  {
   "cell_type": "code",
   "execution_count": 23,
   "id": "4c01d86c-1eb6-4781-aeea-fd34d3c44f57",
   "metadata": {},
   "outputs": [
    {
     "data": {
      "text/html": [
       "<div>\n",
       "<style scoped>\n",
       "    .dataframe tbody tr th:only-of-type {\n",
       "        vertical-align: middle;\n",
       "    }\n",
       "\n",
       "    .dataframe tbody tr th {\n",
       "        vertical-align: top;\n",
       "    }\n",
       "\n",
       "    .dataframe thead th {\n",
       "        text-align: right;\n",
       "    }\n",
       "</style>\n",
       "<table border=\"1\" class=\"dataframe\">\n",
       "  <thead>\n",
       "    <tr style=\"text-align: right;\">\n",
       "      <th></th>\n",
       "      <th>Name</th>\n",
       "      <th>Age</th>\n",
       "      <th>Driver</th>\n",
       "    </tr>\n",
       "  </thead>\n",
       "  <tbody>\n",
       "    <tr>\n",
       "      <th>0</th>\n",
       "      <td>Alex Alelee</td>\n",
       "      <td>38</td>\n",
       "      <td>True</td>\n",
       "    </tr>\n",
       "    <tr>\n",
       "      <th>1</th>\n",
       "      <td>Stiven Stivenson</td>\n",
       "      <td>25</td>\n",
       "      <td>False</td>\n",
       "    </tr>\n",
       "  </tbody>\n",
       "</table>\n",
       "</div>"
      ],
      "text/plain": [
       "               Name  Age  Driver\n",
       "0       Alex Alelee   38    True\n",
       "1  Stiven Stivenson   25   False"
      ]
     },
     "execution_count": 23,
     "metadata": {},
     "output_type": "execute_result"
    }
   ],
   "source": [
    "dataframe"
   ]
  },
  {
   "cell_type": "markdown",
   "id": "ed2c9c18-e1c0-4428-bfa4-f1ccdbb9f113",
   "metadata": {},
   "source": [
    "## 3.2. Описание данных\n",
    "## Задача\n",
    "Требуется взглянуть на некоторые характеристики фрейма данных"
   ]
  },
  {
   "cell_type": "markdown",
   "id": "6350a255-7f7e-450c-8818-eb28cf6bdb45",
   "metadata": {},
   "source": [
    "## 3.3. Навигация по фреймам данных\n",
    "## Задача\n",
    "Требуется выбрать индивидуальные данные или срезы фрейма данных."
   ]
  },
  {
   "cell_type": "code",
   "execution_count": 42,
   "id": "551597d8-0cd7-4e73-828b-54d20964d12d",
   "metadata": {},
   "outputs": [
    {
     "data": {
      "text/plain": [
       "Name      Stiven Stivenson\n",
       "Age                     25\n",
       "Driver               False\n",
       "Name: Stiven Stivenson, dtype: object"
      ]
     },
     "execution_count": 42,
     "metadata": {},
     "output_type": "execute_result"
    }
   ],
   "source": [
    "# Показать строку\n",
    "dataframe.iloc[1]"
   ]
  },
  {
   "cell_type": "code",
   "execution_count": 36,
   "id": "678a5fb4-bd92-438b-8c46-933a33e8c02a",
   "metadata": {},
   "outputs": [
    {
     "data": {
      "text/html": [
       "<div>\n",
       "<style scoped>\n",
       "    .dataframe tbody tr th:only-of-type {\n",
       "        vertical-align: middle;\n",
       "    }\n",
       "\n",
       "    .dataframe tbody tr th {\n",
       "        vertical-align: top;\n",
       "    }\n",
       "\n",
       "    .dataframe thead th {\n",
       "        text-align: right;\n",
       "    }\n",
       "</style>\n",
       "<table border=\"1\" class=\"dataframe\">\n",
       "  <thead>\n",
       "    <tr style=\"text-align: right;\">\n",
       "      <th></th>\n",
       "      <th>Name</th>\n",
       "      <th>Age</th>\n",
       "      <th>Driver</th>\n",
       "    </tr>\n",
       "  </thead>\n",
       "  <tbody>\n",
       "    <tr>\n",
       "      <th>0</th>\n",
       "      <td>Alex Alelee</td>\n",
       "      <td>38</td>\n",
       "      <td>True</td>\n",
       "    </tr>\n",
       "    <tr>\n",
       "      <th>1</th>\n",
       "      <td>Stiven Stivenson</td>\n",
       "      <td>25</td>\n",
       "      <td>False</td>\n",
       "    </tr>\n",
       "  </tbody>\n",
       "</table>\n",
       "</div>"
      ],
      "text/plain": [
       "               Name  Age  Driver\n",
       "0       Alex Alelee   38    True\n",
       "1  Stiven Stivenson   25   False"
      ]
     },
     "execution_count": 36,
     "metadata": {},
     "output_type": "execute_result"
    }
   ],
   "source": [
    "dataframe.iloc[0:2]"
   ]
  },
  {
   "cell_type": "code",
   "execution_count": 44,
   "id": "df4b606c-4883-44c4-87c4-3b74907d0cb4",
   "metadata": {},
   "outputs": [
    {
     "data": {
      "text/html": [
       "<div>\n",
       "<style scoped>\n",
       "    .dataframe tbody tr th:only-of-type {\n",
       "        vertical-align: middle;\n",
       "    }\n",
       "\n",
       "    .dataframe tbody tr th {\n",
       "        vertical-align: top;\n",
       "    }\n",
       "\n",
       "    .dataframe thead th {\n",
       "        text-align: right;\n",
       "    }\n",
       "</style>\n",
       "<table border=\"1\" class=\"dataframe\">\n",
       "  <thead>\n",
       "    <tr style=\"text-align: right;\">\n",
       "      <th></th>\n",
       "      <th>Name</th>\n",
       "      <th>Age</th>\n",
       "      <th>Driver</th>\n",
       "    </tr>\n",
       "    <tr>\n",
       "      <th>Name</th>\n",
       "      <th></th>\n",
       "      <th></th>\n",
       "      <th></th>\n",
       "    </tr>\n",
       "  </thead>\n",
       "  <tbody>\n",
       "    <tr>\n",
       "      <th>Alex Alelee</th>\n",
       "      <td>Alex Alelee</td>\n",
       "      <td>38</td>\n",
       "      <td>True</td>\n",
       "    </tr>\n",
       "    <tr>\n",
       "      <th>Stiven Stivenson</th>\n",
       "      <td>Stiven Stivenson</td>\n",
       "      <td>25</td>\n",
       "      <td>False</td>\n",
       "    </tr>\n",
       "  </tbody>\n",
       "</table>\n",
       "</div>"
      ],
      "text/plain": [
       "                              Name  Age  Driver\n",
       "Name                                           \n",
       "Alex Alelee            Alex Alelee   38    True\n",
       "Stiven Stivenson  Stiven Stivenson   25   False"
      ]
     },
     "execution_count": 44,
     "metadata": {},
     "output_type": "execute_result"
    }
   ],
   "source": [
    "# Задать индекс\n",
    "dataframe = dataframe.set_index(dataframe['Name'])\n",
    "dataframe"
   ]
  },
  {
   "cell_type": "markdown",
   "id": "2e61f5f5-1c25-4c10-b8ac-e0cd6d69c315",
   "metadata": {},
   "source": [
    "## 3.4. Выбор строк на основе условных конструкций\n",
    "## Задача\n",
    "Требуется отобрать строки фрейма данных на основе некоторого условия.\n"
   ]
  },
  {
   "cell_type": "code",
   "execution_count": 58,
   "id": "b212e864-3a24-4158-8cd2-3c16c81085be",
   "metadata": {},
   "outputs": [
    {
     "data": {
      "text/html": [
       "<div>\n",
       "<style scoped>\n",
       "    .dataframe tbody tr th:only-of-type {\n",
       "        vertical-align: middle;\n",
       "    }\n",
       "\n",
       "    .dataframe tbody tr th {\n",
       "        vertical-align: top;\n",
       "    }\n",
       "\n",
       "    .dataframe thead th {\n",
       "        text-align: right;\n",
       "    }\n",
       "</style>\n",
       "<table border=\"1\" class=\"dataframe\">\n",
       "  <thead>\n",
       "    <tr style=\"text-align: right;\">\n",
       "      <th></th>\n",
       "      <th>Name</th>\n",
       "      <th>Age</th>\n",
       "      <th>Driver</th>\n",
       "    </tr>\n",
       "    <tr>\n",
       "      <th>Name</th>\n",
       "      <th></th>\n",
       "      <th></th>\n",
       "      <th></th>\n",
       "    </tr>\n",
       "  </thead>\n",
       "  <tbody>\n",
       "    <tr>\n",
       "      <th>Alex Alelee</th>\n",
       "      <td>Alex Alelee</td>\n",
       "      <td>38</td>\n",
       "      <td>True</td>\n",
       "    </tr>\n",
       "  </tbody>\n",
       "</table>\n",
       "</div>"
      ],
      "text/plain": [
       "                    Name  Age  Driver\n",
       "Name                                 \n",
       "Alex Alelee  Alex Alelee   38    True"
      ]
     },
     "execution_count": 58,
     "metadata": {},
     "output_type": "execute_result"
    }
   ],
   "source": [
    "dataframe[dataframe['Age'] > 25].head()"
   ]
  }
 ],
 "metadata": {
  "kernelspec": {
   "display_name": "Python 3 (ipykernel)",
   "language": "python",
   "name": "python3"
  },
  "language_info": {
   "codemirror_mode": {
    "name": "ipython",
    "version": 3
   },
   "file_extension": ".py",
   "mimetype": "text/x-python",
   "name": "python",
   "nbconvert_exporter": "python",
   "pygments_lexer": "ipython3",
   "version": "3.12.4"
  }
 },
 "nbformat": 4,
 "nbformat_minor": 5
}
