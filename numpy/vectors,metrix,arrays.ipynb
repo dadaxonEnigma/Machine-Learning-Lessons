{
 "cells": [
  {
   "cell_type": "markdown",
   "id": "d01089db-af15-44b2-bb2d-7ee013b4254d",
   "metadata": {},
   "source": [
    "# 1 Векторы, Матрицы, Массивы"
   ]
  },
  {
   "cell_type": "markdown",
   "id": "59d775b3-c451-4e28-9883-5bc4046c2228",
   "metadata": {
    "jp-MarkdownHeadingCollapsed": true
   },
   "source": [
    "## 1.1 Создание вектора в Numpy\n",
    "## Задача\r\n",
    "Требуется создать вектор"
   ]
  },
  {
   "cell_type": "code",
   "execution_count": 3,
   "id": "b778c41d-a6fe-492a-aa72-4ff4b7c27756",
   "metadata": {},
   "outputs": [],
   "source": [
    "import numpy as np"
   ]
  },
  {
   "cell_type": "code",
   "execution_count": 4,
   "id": "7782798b-bdbe-4afc-84cf-e50081844da4",
   "metadata": {},
   "outputs": [
    {
     "data": {
      "text/plain": [
       "array([1, 2, 3])"
      ]
     },
     "execution_count": 4,
     "metadata": {},
     "output_type": "execute_result"
    }
   ],
   "source": [
    "# Вектор строка\n",
    "vector_row = np.array([1,2,3])\n",
    "vector_row"
   ]
  },
  {
   "cell_type": "code",
   "execution_count": 5,
   "id": "d603ba65-e79f-4ec6-be38-6cd4f63f07cc",
   "metadata": {},
   "outputs": [
    {
     "data": {
      "text/plain": [
       "array([[1],\n",
       "       [2],\n",
       "       [3]])"
      ]
     },
     "execution_count": 5,
     "metadata": {},
     "output_type": "execute_result"
    }
   ],
   "source": [
    "# Вектор столбец\n",
    "vector_column = np.array([[1],\n",
    "                          [2],\n",
    "                          [3]])\n",
    "vector_column"
   ]
  },
  {
   "cell_type": "markdown",
   "id": "b6c97d60-60b8-408d-9fd8-8a7500273fa5",
   "metadata": {
    "jp-MarkdownHeadingCollapsed": true
   },
   "source": [
    "## 1.2 Создание матрицы\n",
    "## Задача\r\n",
    "Требуется создать матрицу\r"
   ]
  },
  {
   "cell_type": "code",
   "execution_count": 7,
   "id": "b8fa9e7e-94ad-4813-8a39-cf462e69a73c",
   "metadata": {},
   "outputs": [
    {
     "data": {
      "text/plain": [
       "array([[1, 2],\n",
       "       [1, 2],\n",
       "       [1, 2]])"
      ]
     },
     "execution_count": 7,
     "metadata": {},
     "output_type": "execute_result"
    }
   ],
   "source": [
    "# Матрица с исп Двумерного массива (array)\n",
    "matrix = np.array([[1,2],\n",
    "                   [1,2],\n",
    "                   [1,2]])\n",
    "matrix\n",
    "# print(type(matrix))"
   ]
  },
  {
   "cell_type": "code",
   "execution_count": 8,
   "id": "e1cb4206-54b6-4eaf-925e-a35201820534",
   "metadata": {},
   "outputs": [
    {
     "data": {
      "text/plain": [
       "matrix([[1, 2],\n",
       "        [1, 2],\n",
       "        [1, 2]])"
      ]
     },
     "execution_count": 8,
     "metadata": {},
     "output_type": "execute_result"
    }
   ],
   "source": [
    "# Матрица с исп матричную структуру (mat)\n",
    "matrix_second = np.mat([[1,2],\n",
    "                       [1,2],\n",
    "                       [1,2]])\n",
    "matrix_second\n",
    "# print(type(matrix_second))"
   ]
  },
  {
   "cell_type": "code",
   "execution_count": 9,
   "id": "5c0a64b5-b0c5-4dae-a2fc-7794c31a91b2",
   "metadata": {},
   "outputs": [],
   "source": [
    "# Однако матричная структура данных не рекомендуется по двум причинам. \n",
    "# Во-первых, массивы являются де-факто стандартной структурой данных NumPy. \n",
    "# Во-вторых, подавляющее большинство операций NumPy возвращают не матричные \n",
    "# объекты, а массивы."
   ]
  },
  {
   "cell_type": "markdown",
   "id": "abd11ae2-d190-465d-af58-6ad8ba261a00",
   "metadata": {
    "jp-MarkdownHeadingCollapsed": true
   },
   "source": [
    "## 1.3 Создание разреженной матрицы (CSR - compressed sparse row)\n",
    "## Задача\r\n",
    "Имеются данные с очень малым количеством ненулевых значений, которые требу\u0002ется эффективно представить"
   ]
  },
  {
   "cell_type": "code",
   "execution_count": 11,
   "id": "55297634-a6ed-415e-a76b-e8f3f0995ce0",
   "metadata": {},
   "outputs": [
    {
     "name": "stdout",
     "output_type": "stream",
     "text": [
      "  (1, 1)\t1\n",
      "  (2, 0)\t3\n"
     ]
    }
   ],
   "source": [
    "from scipy import sparse\n",
    "\n",
    "matrix_third = np.array([[0, 0, 0, 0, 0, 0, 0, 0, 0],\n",
    "                         [0, 1, 0, 0, 0, 0, 0, 0, 0],\n",
    "                         [3, 0, 0, 0, 0, 0, 0, 0, 0]])\n",
    "matrix_sparse = sparse.csr_matrix(matrix_third)\n",
    "print(matrix_sparse)"
   ]
  },
  {
   "cell_type": "markdown",
   "id": "8ae93358-7fed-4da5-a444-5d1cad0cd802",
   "metadata": {
    "jp-MarkdownHeadingCollapsed": true
   },
   "source": [
    "## 1.4. Выбор элементов\n",
    "## Задача\r\n",
    "Требуется выбрать один или несколько элементов в векторе или матрице."
   ]
  },
  {
   "cell_type": "code",
   "execution_count": 13,
   "id": "1916ce15-c753-436a-b257-78eb7d3a733f",
   "metadata": {},
   "outputs": [
    {
     "name": "stdout",
     "output_type": "stream",
     "text": [
      "3\n",
      "5\n"
     ]
    }
   ],
   "source": [
    "# Создать вектор-строку\n",
    "vector = np.array([1,2,3,4,5])\n",
    "# Создать матрицу\n",
    "matrix_fourth = np.array([[1,2,3],\n",
    "                          [4,5,6],\n",
    "                          [7,8,9]])\n",
    "# Выбрать третий элемент вектора\n",
    "print(vector[2])\n",
    "# Выбрать вторую строку, второй столбец \n",
    "print(matrix_fourth[1,1])"
   ]
  },
  {
   "cell_type": "code",
   "execution_count": 14,
   "id": "943ccf78-d456-49d3-9fa5-6cd6ed69d236",
   "metadata": {},
   "outputs": [
    {
     "data": {
      "text/plain": [
       "array([[2],\n",
       "       [5],\n",
       "       [8]])"
      ]
     },
     "execution_count": 14,
     "metadata": {},
     "output_type": "execute_result"
    }
   ],
   "source": [
    "# Срезы в numpy\n",
    "\n",
    "# Выбрать все элементы вектора\n",
    "vector[:]\n",
    "# Выбрать все вплоть до третьего элемента включительно \n",
    "vector[:3]\n",
    "# Выбрать последний элемент\n",
    "vector[-1]\n",
    "# Выбрать первые две строки и все столбцы матрицы\n",
    "matrix_fourth[:2,:]\n",
    "# Выбрать все строки и второй столбец\n",
    "matrix_fourth[:,1:2]"
   ]
  },
  {
   "cell_type": "markdown",
   "id": "a3dba229-95f2-4bc8-8a18-eb31cdbab5d0",
   "metadata": {
    "jp-MarkdownHeadingCollapsed": true
   },
   "source": [
    "## 1.5. Описание матрицы \n",
    "## Задача\n",
    "\r\n",
    "Требуется описать форму, размер и размерность матрицы.\r"
   ]
  },
  {
   "cell_type": "code",
   "execution_count": 16,
   "id": "31e247c5-a9ce-46e7-8798-02da8133f1b0",
   "metadata": {},
   "outputs": [
    {
     "data": {
      "text/plain": [
       "2"
      ]
     },
     "execution_count": 16,
     "metadata": {},
     "output_type": "execute_result"
    }
   ],
   "source": [
    "matrix_five = np.array([[1,2,3,4],\n",
    "                        [5,6,7,8],\n",
    "                        [14,13,11,12]])\n",
    "# Взглянуть на количество строк и столбцов\n",
    "matrix_five.shape\n",
    "# Взглянуть на количество элементов (строки * столбцы)\n",
    "matrix_five.size\n",
    "# Взглянуть на количество размерностей\n",
    "matrix_five.ndim"
   ]
  },
  {
   "cell_type": "markdown",
   "id": "7acb11fe-935d-4533-a7a3-7a716220783e",
   "metadata": {
    "jp-MarkdownHeadingCollapsed": true
   },
   "source": [
    "## 1.6. Применение операций к элементам\r",
    "## Задача\r\n",
    "Требуется применить некоторую функцию к нескольким элементам массива."
   ]
  },
  {
   "cell_type": "code",
   "execution_count": 18,
   "id": "609731d2-7d35-43f4-b897-2cd237b51acb",
   "metadata": {},
   "outputs": [
    {
     "data": {
      "text/plain": [
       "array([[101, 102, 103],\n",
       "       [104, 105, 106],\n",
       "       [107, 108, 109]])"
      ]
     },
     "execution_count": 18,
     "metadata": {},
     "output_type": "execute_result"
    }
   ],
   "source": [
    "matrix_six = np.array([[1, 2, 3],\n",
    "                       [4, 5, 6],\n",
    "                       [7, 8, 9]])\n",
    "# Создать функцию, которая добавляет к чему-то 100\n",
    "add_100 = lambda i: i + 100\n",
    "# Создать векторизованную функцию\n",
    "vectorized_add_100 = np.vectorize(add_100)\n",
    "# Применить функцию ко всем элементам в матрице\n",
    "vectorized_add_100(matrix_six)\n"
   ]
  },
  {
   "cell_type": "markdown",
   "id": "583627cc-d231-494c-a1ea-4fa4779ca812",
   "metadata": {
    "jp-MarkdownHeadingCollapsed": true
   },
   "source": [
    "## 1.7 Нахождение максимального и минимального значений + (axis)\n",
    "## Задача\n",
    "Требуется найти максимальное и минимальное значение в массиве"
   ]
  },
  {
   "cell_type": "code",
   "execution_count": 50,
   "id": "9b2e5835-52de-4dd5-8fa2-434a7948e485",
   "metadata": {},
   "outputs": [
    {
     "data": {
      "text/plain": [
       "1"
      ]
     },
     "execution_count": 50,
     "metadata": {},
     "output_type": "execute_result"
    }
   ],
   "source": [
    "# Создать матрицу\n",
    "matrix = np.array([[1, 2, 3],\n",
    "                   [4, 5, 6],\n",
    "                   [7, 8, 9]])\n",
    "# Вернуть максимальный элемент \n",
    "np.max(matrix)\n",
    "# Вернуть минимальный элемент \n",
    "np.min(matrix)\n"
   ]
  }
 ],
 "metadata": {
  "kernelspec": {
   "display_name": "Python 3 (ipykernel)",
   "language": "python",
   "name": "python3"
  },
  "language_info": {
   "codemirror_mode": {
    "name": "ipython",
    "version": 3
   },
   "file_extension": ".py",
   "mimetype": "text/x-python",
   "name": "python",
   "nbconvert_exporter": "python",
   "pygments_lexer": "ipython3",
   "version": "3.12.4"
  }
 },
 "nbformat": 4,
 "nbformat_minor": 5
}
